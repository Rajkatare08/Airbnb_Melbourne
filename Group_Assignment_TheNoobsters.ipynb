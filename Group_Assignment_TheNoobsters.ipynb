{
 "cells": [
  {
   "cell_type": "markdown",
   "id": "a6a106c2-f185-492f-87bb-79286c2eacc4",
   "metadata": {},
   "source": [
    "### __BUSA8001 Group Assignment - Predicting Airbnb Listing Prices in Melbourne__ {-}"
   ]
  },
  {
   "cell_type": "markdown",
   "id": "4c316658-edf7-4797-b078-202987b4922b",
   "metadata": {},
   "source": [
    "--- \n",
    "\n",
    "**Kaggle Competition Ends:** Friday, 4 November 2022 @ 3:00pm (Week 13)  \n",
    "**Assignment Due Date on iLearn:** Friday, 4 November 2022 @ 11.59pm (Week 13)   \n",
    "\n",
    "**Overview:**   \n",
    "\n",
    "- In the group assignment you will form a team of up to 3 students (minimum 2) and participate in a forecasting competition on Kaggle\n",
    "- The goal is to predict listed prices of Airbnb properties in Melbourne based on various Airbnb characteristics and regression models\n",
    "\n",
    "- You will:  \n",
    "    - Write a problem statement and perform Exploratory Data Analysis  \n",
    "    - Clean up data, deal with categorical features and missing observations, and create new variables (feature engineering)  \n",
    "    - Construct and tune forecasting models, produce forecasts and submit your predictions to Kaggle  \n",
    "    - Each member of the team will record a video presentation of their work  \n",
    "    - Marks will be awarded producing a prediction in the top 5 positions of their unit as well as for reaching the highest ranking on Kaggle amongst all teams."
   ]
  },
  {
   "cell_type": "markdown",
   "id": "f2270744-5e12-447b-a861-9719409e287c",
   "metadata": {},
   "source": [
    "**Instructions:** \n",
    "\n",
    "- Form a team of 3 students (minimum 2 students)  \n",
    "- Each team member needs to join [https://www.kaggle.com](https://www.kaggle.com/)  \n",
    "- Choose a team leader and form a team in the competition [https://www.kaggle.com/t/0854c07cc3ac4037920a9fa4cdebacd1](https://www.kaggle.com/t/0854c07cc3ac4037920a9fa4cdebacd1)\n",
    "    - Team leader to click on `team` and join and invite other team members to join\n",
    "    - Your **team's name must start** with your unit code, for instance you could have a team called BUSA8001_masterful_geniuses \n",
    "- All team members should work on all the tasks listed below however   \n",
    "    - **Choose a team member who will be responsible for one of each of the 3 tasks listed below**    "
   ]
  },
  {
   "cell_type": "markdown",
   "id": "242ee56b-c5b9-4078-8754-e04f90797514",
   "metadata": {},
   "source": [
    "**Marks**: \n",
    "\n",
    "- Total Marks: 40\n",
    "- Your individual mark will consist of:  \n",
    "    - 50% x overall assignment mark + 45% x mark for the task that you are responsible for + 5% x mark received from your teammates for your effort in group work \n",
    "- 7 marks will be deducted from each Task for which there is no video presentation "
   ]
  },
  {
   "cell_type": "markdown",
   "id": "91f70e4c-b794-4555-b170-d80b628b2904",
   "metadata": {},
   "source": [
    "**Competition Marks:**  \n",
    "\n",
    "- 2 marks: Ranking in the top 5 places of your unit on Kaggle (make sure you name your team as instructed above)   \n",
    "- 2 marks: Reaching the first place in your unit  (make sure you name your team as instructed above)   "
   ]
  },
  {
   "cell_type": "markdown",
   "id": "cc3180e9-c3cc-494c-ae64-d3b9701e10e8",
   "metadata": {},
   "source": [
    "\n",
    "**Submissions:**  \n",
    "\n",
    "1. On Kaggle: submit your team's forecast in order to be ranked by Kaggle\n",
    "    - Can do this as many times as necessary while building their model  \n",
    "2. On iLearn **only team leader to submit** this Jupyter notebook re-named `Group_Assignment_Team_Name.ipynb` where Team_Name is your team's name on Kaggle   \n",
    "    - The Jupyter notebook must contain team members names/ID numbers, and team name in the competition\n",
    "    - Provide answers to the 3 Tasks below in the allocated cells including all codes/outputs/writeups \n",
    "    - One 15 minute video recording of your work \n",
    "        - Each team member to provide a 5 minute presentation of the Task that they led (it is best to jointly record your video using Zoom)\n",
    "        - When recording your video make sure your face is visible, that you share your Jupyter Notebook and explain everything you've done in the submitted Jupyter notebook on screen\n",
    "        - 7 marks will be deducted from each Task for which there is no video presentation or if you don't follow the above instructions\n",
    "        \n",
    "3. On iLearn each student needs to submit a file with their teammates' names, ID number and a mark for their group effort (out of 100%)\n",
    "\n"
   ]
  },
  {
   "cell_type": "markdown",
   "id": "e5dbce8a-bf4f-4155-9336-6367fd239f6a",
   "metadata": {},
   "source": [
    "---"
   ]
  },
  {
   "cell_type": "markdown",
   "id": "cfe68a60-5e8b-4c4e-b562-3a82fa426395",
   "metadata": {},
   "source": [
    "**Fill out the following information**\n",
    "\n",
    "For each team member provide name, Student ID number and which task is performed below"
   ]
  },
  {
   "cell_type": "markdown",
   "id": "bac487d3-755a-4a69-a22f-d599dbdd7979",
   "metadata": {},
   "source": [
    "- Team Name on Kaggle: TheNoobsters\n",
    "- Team Leader and Team Member 1: Raj Katare - 46843302\n",
    "- Team Member 2: Shobhit Kumar Ravi - 46304002\n",
    "- Team Member 3: Kunal Upreja - 46810749"
   ]
  },
  {
   "cell_type": "markdown",
   "id": "b24de689-928d-4991-b337-760c12780e5d",
   "metadata": {},
   "source": [
    "---\n",
    "\n",
    "## Task 1: Problem Description and Initial Data Analysis {-}\n",
    "\n",
    "1. Read the Competition Overview on Kaggle [https://www.kaggle.com/t/0854c07cc3ac4037920a9fa4cdebacd1](https://www.kaggle.com/t/0854c07cc3ac4037920a9fa4cdebacd1)\n",
    "2. Referring to Competition Overview and the data provided on Kaggle write about a 500 words **Problem Description** focusing on key points that will need to be addressed as first steps in Tasks 2 and 3 below, using the following headings:\n",
    "    - Forecasting Problem\n",
    "    - Evaluation Criteria\n",
    "    - Types of Variables/Features\n",
    "    - Data summary and main data characteristics\n",
    "    - Missing Values (only explain what you found at this stage)\n",
    "    - Note: you should **not** discuss any specific predictive algorithms at this stage.\n",
    "    \n",
    "Total Marks: 12\n"
   ]
  },
  {
   "cell_type": "markdown",
   "id": "52dd7cbc",
   "metadata": {},
   "source": [
    "# Problem Description\n",
    "\n",
    "In the given assignment, we are required to predict listed prices of Airbnb based on various Airbnb characteristics that are given and using the regression models. Firstly, to understand the concept of Airbnb, it is an online marketplace that connects people who want to rent out their homes with people who are looking for accommodation in the specific location. Airbnb is a concept where the Airbnb doesn’t provide their own properties rather it acts as a medium between the two parties in which one rents out the property and the other one rents the property on the price as set by the lender. Airbnb’s majority of revenues comes from service fees from bookings charged to both the hosts and the guests. But Airbnb suggests a price to the host that they can offer to the guests based on various factors of the property such as location, size etc. Therefore, in this assignment, we are supposed to predict the prices that hosts can list on their property using the given features of the property.\n",
    "\n",
    "The dataset was composed of categorical and numerical variables. In the dataset provided, we are given a total of 60 columns, but we will not be taking all the features rather we will only be considering the features that are necessary in determining the prices of the listings. We took total of 14 features and converted the datatypes of the variable wherever it was necessary to perform the predictions. We have also plotted a correlation heatmap between the 14 features which will help us to perform the further predictions.\n",
    "\n",
    "We have done some data imputation as well so that we can use the dataset according to our requirement. The columns with the numerical values are imputed by filling the missing values with either mean or median of the remaining values of that column whereas the categorical/string values are imputed by filling the missing values with mode of the remaining values of that column. Furthermore, we have chosen ‘boxplot’ graph to detect the outliers for the ‘price’ column more accurately. \n",
    "\n",
    "The major task is to find the best predicting machine learning algorithm for this problem. To do that, we will be using three algorithms namely logistic regression, decision tree regression, and random forest regressor and then we will be evaluating their Mean Squared Errors and compare them to predict the prices for the listings that are given to us in the dataset. The degree of inaccuracy in statistical models is measured by the negative mean squared error, or MSE. Between the observed and projected values, it evaluates the average squared difference. The MSE is equal to 0 when a model is error-free. Its value increases when model error does as well."
   ]
  },
  {
   "cell_type": "code",
   "execution_count": 36,
   "id": "5dcfd49e-fcbb-4eaa-936b-144b574495d4",
   "metadata": {},
   "outputs": [],
   "source": [
    "#Importing the necessary libraries for the plotting and predictions\n",
    "import pandas as pd\n",
    "import seaborn as sns\n",
    "import matplotlib.pyplot as plt\n",
    "import numpy as np\n",
    "import random\n",
    "from sklearn.model_selection import RandomizedSearchCV\n",
    "from sklearn.model_selection import RepeatedKFold\n",
    "from sklearn.impute import SimpleImputer\n",
    "from sklearn.preprocessing import MinMaxScaler\n",
    "from sklearn.preprocessing import StandardScaler\n",
    "from sklearn.linear_model import LinearRegression\n",
    "from sklearn.tree import DecisionTreeRegressor\n",
    "from sklearn.ensemble import RandomForestRegressor\n",
    "import warnings\n",
    "warnings.filterwarnings('ignore')"
   ]
  },
  {
   "cell_type": "code",
   "execution_count": 37,
   "id": "7b0cde60",
   "metadata": {},
   "outputs": [
    {
     "name": "stdout",
     "output_type": "stream",
     "text": [
      "(7000, 61)\n",
      "(3000, 60)\n"
     ]
    },
    {
     "data": {
      "text/plain": [
       "(10000, 60)"
      ]
     },
     "execution_count": 37,
     "metadata": {},
     "output_type": "execute_result"
    }
   ],
   "source": [
    "train = pd.read_csv('train.csv')\n",
    "test = pd.read_csv('test.csv')\n",
    "print(train.shape)\n",
    "print(test.shape)\n",
    "df = train.iloc[:,:-1].copy()\n",
    "y = train.iloc[:,-1].copy()\n",
    "#Creating a target variable y which contains the price column\n",
    "y = pd.DataFrame(y, columns=[\"price\"])\n",
    "df = pd.concat([df, test])\n",
    "df.shape"
   ]
  },
  {
   "cell_type": "code",
   "execution_count": 38,
   "id": "8032d4fd",
   "metadata": {},
   "outputs": [
    {
     "name": "stdout",
     "output_type": "stream",
     "text": [
      "<class 'pandas.core.frame.DataFrame'>\n",
      "RangeIndex: 7000 entries, 0 to 6999\n",
      "Data columns (total 1 columns):\n",
      " #   Column  Non-Null Count  Dtype \n",
      "---  ------  --------------  ----- \n",
      " 0   price   7000 non-null   object\n",
      "dtypes: object(1)\n",
      "memory usage: 54.8+ KB\n"
     ]
    }
   ],
   "source": [
    "y.info()"
   ]
  },
  {
   "cell_type": "code",
   "execution_count": 39,
   "id": "81e30b9e",
   "metadata": {
    "scrolled": false
   },
   "outputs": [
    {
     "name": "stdout",
     "output_type": "stream",
     "text": [
      "<class 'pandas.core.frame.DataFrame'>\n",
      "Int64Index: 10000 entries, 0 to 2999\n",
      "Data columns (total 60 columns):\n",
      " #   Column                                        Non-Null Count  Dtype  \n",
      "---  ------                                        --------------  -----  \n",
      " 0   ID                                            10000 non-null  int64  \n",
      " 1   source                                        10000 non-null  object \n",
      " 2   name                                          9999 non-null   object \n",
      " 3   description                                   9924 non-null   object \n",
      " 4   neighborhood_overview                         6739 non-null   object \n",
      " 5   host_name                                     10000 non-null  object \n",
      " 6   host_since                                    10000 non-null  object \n",
      " 7   host_location                                 7924 non-null   object \n",
      " 8   host_about                                    6269 non-null   object \n",
      " 9   host_response_time                            9612 non-null   object \n",
      " 10  host_response_rate                            9612 non-null   object \n",
      " 11  host_acceptance_rate                          9609 non-null   object \n",
      " 12  host_is_superhost                             10000 non-null  object \n",
      " 13  host_neighbourhood                            4446 non-null   object \n",
      " 14  host_listings_count                           10000 non-null  float64\n",
      " 15  host_verifications                            10000 non-null  object \n",
      " 16  host_has_profile_pic                          10000 non-null  object \n",
      " 17  host_identity_verified                        10000 non-null  object \n",
      " 18  neighbourhood                                 6739 non-null   object \n",
      " 19  neighbourhood_cleansed                        9850 non-null   object \n",
      " 20  latitude                                      10000 non-null  float64\n",
      " 21  longitude                                     10000 non-null  float64\n",
      " 22  property_type                                 9877 non-null   object \n",
      " 23  room_type                                     9825 non-null   object \n",
      " 24  accommodates                                  10000 non-null  int64  \n",
      " 25  bathrooms                                     9990 non-null   object \n",
      " 26  bedrooms                                      9560 non-null   float64\n",
      " 27  beds                                          9903 non-null   float64\n",
      " 28  amenities                                     10000 non-null  object \n",
      " 29  minimum_nights                                10000 non-null  int64  \n",
      " 30  maximum_nights                                10000 non-null  int64  \n",
      " 31  minimum_minimum_nights                        9945 non-null   float64\n",
      " 32  maximum_minimum_nights                        10000 non-null  int64  \n",
      " 33  minimum_maximum_nights                        10000 non-null  int64  \n",
      " 34  maximum_maximum_nights                        9945 non-null   float64\n",
      " 35  minimum_nights_avg_ntm                        10000 non-null  float64\n",
      " 36  maximum_nights_avg_ntm                        10000 non-null  float64\n",
      " 37  has_availability                              10000 non-null  object \n",
      " 38  availability_30                               10000 non-null  int64  \n",
      " 39  availability_60                               10000 non-null  int64  \n",
      " 40  availability_90                               10000 non-null  int64  \n",
      " 41  availability_365                              9933 non-null   float64\n",
      " 42  number_of_reviews                             10000 non-null  int64  \n",
      " 43  number_of_reviews_ltm                         10000 non-null  int64  \n",
      " 44  number_of_reviews_l30d                        10000 non-null  int64  \n",
      " 45  first_review                                  9877 non-null   object \n",
      " 46  last_review                                   9877 non-null   object \n",
      " 47  review_scores_rating                          9877 non-null   float64\n",
      " 48  review_scores_accuracy                        9831 non-null   float64\n",
      " 49  review_scores_cleanliness                     9831 non-null   float64\n",
      " 50  review_scores_checkin                         9831 non-null   float64\n",
      " 51  review_scores_communication                   9832 non-null   float64\n",
      " 52  review_scores_location                        9831 non-null   float64\n",
      " 53  review_scores_value                           9831 non-null   float64\n",
      " 54  instant_bookable                              10000 non-null  object \n",
      " 55  calculated_host_listings_count                10000 non-null  int64  \n",
      " 56  calculated_host_listings_count_entire_homes   10000 non-null  int64  \n",
      " 57  calculated_host_listings_count_private_rooms  10000 non-null  int64  \n",
      " 58  calculated_host_listings_count_shared_rooms   10000 non-null  int64  \n",
      " 59  reviews_per_month                             9877 non-null   float64\n",
      "dtypes: float64(18), int64(16), object(26)\n",
      "memory usage: 4.7+ MB\n"
     ]
    }
   ],
   "source": [
    "df.info()"
   ]
  },
  {
   "cell_type": "code",
   "execution_count": 40,
   "id": "39bf6a8a",
   "metadata": {
    "scrolled": true
   },
   "outputs": [
    {
     "data": {
      "text/html": [
       "<div>\n",
       "<style scoped>\n",
       "    .dataframe tbody tr th:only-of-type {\n",
       "        vertical-align: middle;\n",
       "    }\n",
       "\n",
       "    .dataframe tbody tr th {\n",
       "        vertical-align: top;\n",
       "    }\n",
       "\n",
       "    .dataframe thead th {\n",
       "        text-align: right;\n",
       "    }\n",
       "</style>\n",
       "<table border=\"1\" class=\"dataframe\">\n",
       "  <thead>\n",
       "    <tr style=\"text-align: right;\">\n",
       "      <th></th>\n",
       "      <th>ID</th>\n",
       "      <th>host_listings_count</th>\n",
       "      <th>latitude</th>\n",
       "      <th>longitude</th>\n",
       "      <th>accommodates</th>\n",
       "      <th>bedrooms</th>\n",
       "      <th>beds</th>\n",
       "      <th>minimum_nights</th>\n",
       "      <th>maximum_nights</th>\n",
       "      <th>minimum_minimum_nights</th>\n",
       "      <th>...</th>\n",
       "      <th>review_scores_cleanliness</th>\n",
       "      <th>review_scores_checkin</th>\n",
       "      <th>review_scores_communication</th>\n",
       "      <th>review_scores_location</th>\n",
       "      <th>review_scores_value</th>\n",
       "      <th>calculated_host_listings_count</th>\n",
       "      <th>calculated_host_listings_count_entire_homes</th>\n",
       "      <th>calculated_host_listings_count_private_rooms</th>\n",
       "      <th>calculated_host_listings_count_shared_rooms</th>\n",
       "      <th>reviews_per_month</th>\n",
       "    </tr>\n",
       "  </thead>\n",
       "  <tbody>\n",
       "    <tr>\n",
       "      <th>count</th>\n",
       "      <td>10000.00000</td>\n",
       "      <td>10000.000000</td>\n",
       "      <td>10000.000000</td>\n",
       "      <td>10000.000000</td>\n",
       "      <td>10000.000000</td>\n",
       "      <td>9560.000000</td>\n",
       "      <td>9903.000000</td>\n",
       "      <td>10000.00000</td>\n",
       "      <td>10000.000000</td>\n",
       "      <td>9945.000000</td>\n",
       "      <td>...</td>\n",
       "      <td>9831.000000</td>\n",
       "      <td>9831.000000</td>\n",
       "      <td>9832.000000</td>\n",
       "      <td>9831.000000</td>\n",
       "      <td>9831.000000</td>\n",
       "      <td>10000.000000</td>\n",
       "      <td>10000.000000</td>\n",
       "      <td>10000.000000</td>\n",
       "      <td>10000.000000</td>\n",
       "      <td>9877.000000</td>\n",
       "    </tr>\n",
       "    <tr>\n",
       "      <th>mean</th>\n",
       "      <td>4999.50000</td>\n",
       "      <td>15.693000</td>\n",
       "      <td>-37.826836</td>\n",
       "      <td>145.030633</td>\n",
       "      <td>3.842200</td>\n",
       "      <td>1.786506</td>\n",
       "      <td>2.246087</td>\n",
       "      <td>4.72190</td>\n",
       "      <td>675.769800</td>\n",
       "      <td>4.372851</td>\n",
       "      <td>...</td>\n",
       "      <td>4.684985</td>\n",
       "      <td>4.806757</td>\n",
       "      <td>4.819058</td>\n",
       "      <td>4.841014</td>\n",
       "      <td>4.676109</td>\n",
       "      <td>12.601000</td>\n",
       "      <td>9.231600</td>\n",
       "      <td>3.287600</td>\n",
       "      <td>0.033500</td>\n",
       "      <td>1.585362</td>\n",
       "    </tr>\n",
       "    <tr>\n",
       "      <th>std</th>\n",
       "      <td>2886.89568</td>\n",
       "      <td>43.682728</td>\n",
       "      <td>0.082002</td>\n",
       "      <td>0.172307</td>\n",
       "      <td>2.473603</td>\n",
       "      <td>1.041520</td>\n",
       "      <td>1.716274</td>\n",
       "      <td>27.85186</td>\n",
       "      <td>1108.161894</td>\n",
       "      <td>25.162592</td>\n",
       "      <td>...</td>\n",
       "      <td>0.449856</td>\n",
       "      <td>0.365809</td>\n",
       "      <td>0.386729</td>\n",
       "      <td>0.302999</td>\n",
       "      <td>0.413242</td>\n",
       "      <td>32.384238</td>\n",
       "      <td>18.253364</td>\n",
       "      <td>21.001919</td>\n",
       "      <td>0.409139</td>\n",
       "      <td>1.791966</td>\n",
       "    </tr>\n",
       "    <tr>\n",
       "      <th>min</th>\n",
       "      <td>0.00000</td>\n",
       "      <td>1.000000</td>\n",
       "      <td>-38.325610</td>\n",
       "      <td>144.506620</td>\n",
       "      <td>1.000000</td>\n",
       "      <td>1.000000</td>\n",
       "      <td>1.000000</td>\n",
       "      <td>1.00000</td>\n",
       "      <td>1.000000</td>\n",
       "      <td>1.000000</td>\n",
       "      <td>...</td>\n",
       "      <td>1.000000</td>\n",
       "      <td>1.000000</td>\n",
       "      <td>1.000000</td>\n",
       "      <td>1.000000</td>\n",
       "      <td>1.000000</td>\n",
       "      <td>1.000000</td>\n",
       "      <td>0.000000</td>\n",
       "      <td>0.000000</td>\n",
       "      <td>0.000000</td>\n",
       "      <td>0.010000</td>\n",
       "    </tr>\n",
       "    <tr>\n",
       "      <th>25%</th>\n",
       "      <td>2499.75000</td>\n",
       "      <td>1.000000</td>\n",
       "      <td>-37.855995</td>\n",
       "      <td>144.956700</td>\n",
       "      <td>2.000000</td>\n",
       "      <td>1.000000</td>\n",
       "      <td>1.000000</td>\n",
       "      <td>1.00000</td>\n",
       "      <td>100.000000</td>\n",
       "      <td>1.000000</td>\n",
       "      <td>...</td>\n",
       "      <td>4.580000</td>\n",
       "      <td>4.760000</td>\n",
       "      <td>4.800000</td>\n",
       "      <td>4.800000</td>\n",
       "      <td>4.590000</td>\n",
       "      <td>1.000000</td>\n",
       "      <td>1.000000</td>\n",
       "      <td>0.000000</td>\n",
       "      <td>0.000000</td>\n",
       "      <td>0.420000</td>\n",
       "    </tr>\n",
       "    <tr>\n",
       "      <th>50%</th>\n",
       "      <td>4999.50000</td>\n",
       "      <td>2.000000</td>\n",
       "      <td>-37.818640</td>\n",
       "      <td>144.978685</td>\n",
       "      <td>4.000000</td>\n",
       "      <td>1.000000</td>\n",
       "      <td>2.000000</td>\n",
       "      <td>2.00000</td>\n",
       "      <td>1100.000000</td>\n",
       "      <td>2.000000</td>\n",
       "      <td>...</td>\n",
       "      <td>4.820000</td>\n",
       "      <td>4.930000</td>\n",
       "      <td>4.950000</td>\n",
       "      <td>4.920000</td>\n",
       "      <td>4.780000</td>\n",
       "      <td>2.000000</td>\n",
       "      <td>1.000000</td>\n",
       "      <td>0.000000</td>\n",
       "      <td>0.000000</td>\n",
       "      <td>1.050000</td>\n",
       "    </tr>\n",
       "    <tr>\n",
       "      <th>75%</th>\n",
       "      <td>7499.25000</td>\n",
       "      <td>11.000000</td>\n",
       "      <td>-37.801130</td>\n",
       "      <td>145.044110</td>\n",
       "      <td>5.000000</td>\n",
       "      <td>2.000000</td>\n",
       "      <td>3.000000</td>\n",
       "      <td>3.00000</td>\n",
       "      <td>1125.000000</td>\n",
       "      <td>3.000000</td>\n",
       "      <td>...</td>\n",
       "      <td>4.970000</td>\n",
       "      <td>5.000000</td>\n",
       "      <td>5.000000</td>\n",
       "      <td>5.000000</td>\n",
       "      <td>4.910000</td>\n",
       "      <td>8.000000</td>\n",
       "      <td>7.000000</td>\n",
       "      <td>1.000000</td>\n",
       "      <td>0.000000</td>\n",
       "      <td>2.190000</td>\n",
       "    </tr>\n",
       "    <tr>\n",
       "      <th>max</th>\n",
       "      <td>9999.00000</td>\n",
       "      <td>1091.000000</td>\n",
       "      <td>-37.486450</td>\n",
       "      <td>145.850230</td>\n",
       "      <td>16.000000</td>\n",
       "      <td>10.000000</td>\n",
       "      <td>22.000000</td>\n",
       "      <td>1125.00000</td>\n",
       "      <td>99999.000000</td>\n",
       "      <td>999.000000</td>\n",
       "      <td>...</td>\n",
       "      <td>5.000000</td>\n",
       "      <td>5.000000</td>\n",
       "      <td>5.000000</td>\n",
       "      <td>5.000000</td>\n",
       "      <td>5.000000</td>\n",
       "      <td>230.000000</td>\n",
       "      <td>179.000000</td>\n",
       "      <td>168.000000</td>\n",
       "      <td>13.000000</td>\n",
       "      <td>49.270000</td>\n",
       "    </tr>\n",
       "  </tbody>\n",
       "</table>\n",
       "<p>8 rows × 34 columns</p>\n",
       "</div>"
      ],
      "text/plain": [
       "                ID  host_listings_count      latitude     longitude  \\\n",
       "count  10000.00000         10000.000000  10000.000000  10000.000000   \n",
       "mean    4999.50000            15.693000    -37.826836    145.030633   \n",
       "std     2886.89568            43.682728      0.082002      0.172307   \n",
       "min        0.00000             1.000000    -38.325610    144.506620   \n",
       "25%     2499.75000             1.000000    -37.855995    144.956700   \n",
       "50%     4999.50000             2.000000    -37.818640    144.978685   \n",
       "75%     7499.25000            11.000000    -37.801130    145.044110   \n",
       "max     9999.00000          1091.000000    -37.486450    145.850230   \n",
       "\n",
       "       accommodates     bedrooms         beds  minimum_nights  maximum_nights  \\\n",
       "count  10000.000000  9560.000000  9903.000000     10000.00000    10000.000000   \n",
       "mean       3.842200     1.786506     2.246087         4.72190      675.769800   \n",
       "std        2.473603     1.041520     1.716274        27.85186     1108.161894   \n",
       "min        1.000000     1.000000     1.000000         1.00000        1.000000   \n",
       "25%        2.000000     1.000000     1.000000         1.00000      100.000000   \n",
       "50%        4.000000     1.000000     2.000000         2.00000     1100.000000   \n",
       "75%        5.000000     2.000000     3.000000         3.00000     1125.000000   \n",
       "max       16.000000    10.000000    22.000000      1125.00000    99999.000000   \n",
       "\n",
       "       minimum_minimum_nights  ...  review_scores_cleanliness  \\\n",
       "count             9945.000000  ...                9831.000000   \n",
       "mean                 4.372851  ...                   4.684985   \n",
       "std                 25.162592  ...                   0.449856   \n",
       "min                  1.000000  ...                   1.000000   \n",
       "25%                  1.000000  ...                   4.580000   \n",
       "50%                  2.000000  ...                   4.820000   \n",
       "75%                  3.000000  ...                   4.970000   \n",
       "max                999.000000  ...                   5.000000   \n",
       "\n",
       "       review_scores_checkin  review_scores_communication  \\\n",
       "count            9831.000000                  9832.000000   \n",
       "mean                4.806757                     4.819058   \n",
       "std                 0.365809                     0.386729   \n",
       "min                 1.000000                     1.000000   \n",
       "25%                 4.760000                     4.800000   \n",
       "50%                 4.930000                     4.950000   \n",
       "75%                 5.000000                     5.000000   \n",
       "max                 5.000000                     5.000000   \n",
       "\n",
       "       review_scores_location  review_scores_value  \\\n",
       "count             9831.000000          9831.000000   \n",
       "mean                 4.841014             4.676109   \n",
       "std                  0.302999             0.413242   \n",
       "min                  1.000000             1.000000   \n",
       "25%                  4.800000             4.590000   \n",
       "50%                  4.920000             4.780000   \n",
       "75%                  5.000000             4.910000   \n",
       "max                  5.000000             5.000000   \n",
       "\n",
       "       calculated_host_listings_count  \\\n",
       "count                    10000.000000   \n",
       "mean                        12.601000   \n",
       "std                         32.384238   \n",
       "min                          1.000000   \n",
       "25%                          1.000000   \n",
       "50%                          2.000000   \n",
       "75%                          8.000000   \n",
       "max                        230.000000   \n",
       "\n",
       "       calculated_host_listings_count_entire_homes  \\\n",
       "count                                 10000.000000   \n",
       "mean                                      9.231600   \n",
       "std                                      18.253364   \n",
       "min                                       0.000000   \n",
       "25%                                       1.000000   \n",
       "50%                                       1.000000   \n",
       "75%                                       7.000000   \n",
       "max                                     179.000000   \n",
       "\n",
       "       calculated_host_listings_count_private_rooms  \\\n",
       "count                                  10000.000000   \n",
       "mean                                       3.287600   \n",
       "std                                       21.001919   \n",
       "min                                        0.000000   \n",
       "25%                                        0.000000   \n",
       "50%                                        0.000000   \n",
       "75%                                        1.000000   \n",
       "max                                      168.000000   \n",
       "\n",
       "       calculated_host_listings_count_shared_rooms  reviews_per_month  \n",
       "count                                 10000.000000        9877.000000  \n",
       "mean                                      0.033500           1.585362  \n",
       "std                                       0.409139           1.791966  \n",
       "min                                       0.000000           0.010000  \n",
       "25%                                       0.000000           0.420000  \n",
       "50%                                       0.000000           1.050000  \n",
       "75%                                       0.000000           2.190000  \n",
       "max                                      13.000000          49.270000  \n",
       "\n",
       "[8 rows x 34 columns]"
      ]
     },
     "execution_count": 40,
     "metadata": {},
     "output_type": "execute_result"
    }
   ],
   "source": [
    "df.describe()"
   ]
  },
  {
   "cell_type": "code",
   "execution_count": 41,
   "id": "857230e4",
   "metadata": {
    "scrolled": false
   },
   "outputs": [
    {
     "data": {
      "text/plain": [
       "array(['1 bath', '1 private bath', '1 shared bath', '2.5 baths',\n",
       "       '1.5 baths', nan, '1.5 shared baths', '2 baths', '3 baths',\n",
       "       '6 baths', '5 baths', '3.5 baths', '0 shared baths', 'Half-bath',\n",
       "       'Shared half-bath', '0 baths', '3 shared baths', '2 shared baths',\n",
       "       '2.5 shared baths', '4 baths', '9.5 baths', '4.5 baths',\n",
       "       '4 shared baths', '5.5 shared baths', '5 shared baths',\n",
       "       '3.5 shared baths', 'Private half-bath', '5.5 baths',\n",
       "       '10.5 shared baths', '6.5 baths', '9 baths', '10 baths',\n",
       "       '8.5 baths'], dtype=object)"
      ]
     },
     "execution_count": 41,
     "metadata": {},
     "output_type": "execute_result"
    }
   ],
   "source": [
    "df['bathrooms'].unique()"
   ]
  },
  {
   "cell_type": "code",
   "execution_count": 7,
   "id": "b23879b8",
   "metadata": {},
   "outputs": [
    {
     "data": {
      "text/plain": [
       "ID                                                 0\n",
       "source                                             0\n",
       "name                                               1\n",
       "description                                       76\n",
       "neighborhood_overview                           3261\n",
       "host_name                                          0\n",
       "host_since                                         0\n",
       "host_location                                   2076\n",
       "host_about                                      3731\n",
       "host_response_time                               388\n",
       "host_response_rate                               388\n",
       "host_acceptance_rate                             391\n",
       "host_is_superhost                                  0\n",
       "host_neighbourhood                              5554\n",
       "host_listings_count                                0\n",
       "host_verifications                                 0\n",
       "host_has_profile_pic                               0\n",
       "host_identity_verified                             0\n",
       "neighbourhood                                   3261\n",
       "neighbourhood_cleansed                           150\n",
       "latitude                                           0\n",
       "longitude                                          0\n",
       "property_type                                    123\n",
       "room_type                                        175\n",
       "accommodates                                       0\n",
       "bathrooms                                         10\n",
       "bedrooms                                         440\n",
       "beds                                              97\n",
       "amenities                                          0\n",
       "minimum_nights                                     0\n",
       "maximum_nights                                     0\n",
       "minimum_minimum_nights                            55\n",
       "maximum_minimum_nights                             0\n",
       "minimum_maximum_nights                             0\n",
       "maximum_maximum_nights                            55\n",
       "minimum_nights_avg_ntm                             0\n",
       "maximum_nights_avg_ntm                             0\n",
       "has_availability                                   0\n",
       "availability_30                                    0\n",
       "availability_60                                    0\n",
       "availability_90                                    0\n",
       "availability_365                                  67\n",
       "number_of_reviews                                  0\n",
       "number_of_reviews_ltm                              0\n",
       "number_of_reviews_l30d                             0\n",
       "first_review                                     123\n",
       "last_review                                      123\n",
       "review_scores_rating                             123\n",
       "review_scores_accuracy                           169\n",
       "review_scores_cleanliness                        169\n",
       "review_scores_checkin                            169\n",
       "review_scores_communication                      168\n",
       "review_scores_location                           169\n",
       "review_scores_value                              169\n",
       "instant_bookable                                   0\n",
       "calculated_host_listings_count                     0\n",
       "calculated_host_listings_count_entire_homes        0\n",
       "calculated_host_listings_count_private_rooms       0\n",
       "calculated_host_listings_count_shared_rooms        0\n",
       "reviews_per_month                                123\n",
       "dtype: int64"
      ]
     },
     "execution_count": 7,
     "metadata": {},
     "output_type": "execute_result"
    }
   ],
   "source": [
    "#detecting the NULL values in the df\n",
    "df.isnull().sum()"
   ]
  },
  {
   "cell_type": "markdown",
   "id": "ad30df24-b18b-4f61-975f-ceebe2e2c3ab",
   "metadata": {},
   "source": [
    "---\n",
    "\n",
    "## Task 2: Data Cleaning, Missing Observations and Feature Engineering {-}\n",
    "- In this task you will follow a set of instructions/questions listed below.\n",
    "- Make sure you **explain** each step you do both in Markdown text and on your video.\n",
    "    - Do not just read out your commands without exaplaining what they do and why you used them \n",
    "\n",
    "Total Marks: 12"
   ]
  },
  {
   "cell_type": "markdown",
   "id": "01f4ec3d-4936-4428-a204-04f133210a3d",
   "metadata": {},
   "source": [
    "**Task 2, Question 1**: Clean **all** numerical features and the target variable `price` so that they can be used in training algorithms. For instance, `host_response_rate` feature is in object format containing both numerical values and text. Extract numerical values (or equivalently eliminate the text) so that the numerical values can be used as a regular feature.  \n",
    "(2 marks)"
   ]
  },
  {
   "cell_type": "code",
   "execution_count": 8,
   "id": "290e1fac",
   "metadata": {},
   "outputs": [
    {
     "data": {
      "text/html": [
       "<div>\n",
       "<style scoped>\n",
       "    .dataframe tbody tr th:only-of-type {\n",
       "        vertical-align: middle;\n",
       "    }\n",
       "\n",
       "    .dataframe tbody tr th {\n",
       "        vertical-align: top;\n",
       "    }\n",
       "\n",
       "    .dataframe thead th {\n",
       "        text-align: right;\n",
       "    }\n",
       "</style>\n",
       "<table border=\"1\" class=\"dataframe\">\n",
       "  <thead>\n",
       "    <tr style=\"text-align: right;\">\n",
       "      <th></th>\n",
       "      <th>accommodates</th>\n",
       "      <th>availability_30</th>\n",
       "      <th>bathrooms</th>\n",
       "      <th>beds</th>\n",
       "      <th>calculated_host_listings_count</th>\n",
       "      <th>host_is_superhost</th>\n",
       "      <th>host_response_time</th>\n",
       "      <th>host_response_rate</th>\n",
       "      <th>last_review</th>\n",
       "      <th>minimum_nights</th>\n",
       "      <th>maximum_nights</th>\n",
       "      <th>reviews_per_month</th>\n",
       "      <th>review_scores_cleanliness</th>\n",
       "      <th>review_scores_location</th>\n",
       "      <th>room_type</th>\n",
       "    </tr>\n",
       "  </thead>\n",
       "  <tbody>\n",
       "    <tr>\n",
       "      <th>0</th>\n",
       "      <td>2</td>\n",
       "      <td>27</td>\n",
       "      <td>1 bath</td>\n",
       "      <td>1.0</td>\n",
       "      <td>2</td>\n",
       "      <td>f</td>\n",
       "      <td>within a few hours</td>\n",
       "      <td>100%</td>\n",
       "      <td>3/09/2022</td>\n",
       "      <td>2</td>\n",
       "      <td>180</td>\n",
       "      <td>0.15</td>\n",
       "      <td>4.13</td>\n",
       "      <td>4.47</td>\n",
       "      <td>Entire home/apt</td>\n",
       "    </tr>\n",
       "    <tr>\n",
       "      <th>1</th>\n",
       "      <td>2</td>\n",
       "      <td>30</td>\n",
       "      <td>1 bath</td>\n",
       "      <td>2.0</td>\n",
       "      <td>1</td>\n",
       "      <td>f</td>\n",
       "      <td>a few days or more</td>\n",
       "      <td>0%</td>\n",
       "      <td>12/09/2015</td>\n",
       "      <td>1</td>\n",
       "      <td>365</td>\n",
       "      <td>0.03</td>\n",
       "      <td>5.00</td>\n",
       "      <td>4.50</td>\n",
       "      <td>Private room</td>\n",
       "    </tr>\n",
       "  </tbody>\n",
       "</table>\n",
       "</div>"
      ],
      "text/plain": [
       "   accommodates  availability_30 bathrooms  beds  \\\n",
       "0             2               27    1 bath   1.0   \n",
       "1             2               30    1 bath   2.0   \n",
       "\n",
       "   calculated_host_listings_count host_is_superhost  host_response_time  \\\n",
       "0                               2                 f  within a few hours   \n",
       "1                               1                 f  a few days or more   \n",
       "\n",
       "  host_response_rate last_review  minimum_nights  maximum_nights  \\\n",
       "0               100%   3/09/2022               2             180   \n",
       "1                 0%  12/09/2015               1             365   \n",
       "\n",
       "   reviews_per_month  review_scores_cleanliness  review_scores_location  \\\n",
       "0               0.15                       4.13                    4.47   \n",
       "1               0.03                       5.00                    4.50   \n",
       "\n",
       "         room_type  \n",
       "0  Entire home/apt  \n",
       "1     Private room  "
      ]
     },
     "execution_count": 8,
     "metadata": {},
     "output_type": "execute_result"
    }
   ],
   "source": [
    "# Selecting the meaningful features from the dataset which can help the most in predicting the price\n",
    "selected_features = ['accommodates', 'availability_30', 'bathrooms', 'beds', 'calculated_host_listings_count',\n",
    "                     'host_is_superhost', 'host_response_time', 'host_response_rate', 'last_review', 'minimum_nights', 'maximum_nights',\n",
    "                     'reviews_per_month','review_scores_cleanliness','review_scores_location',\n",
    "                    'room_type']\n",
    "df_new = df[selected_features]\n",
    "df_new.head(2)"
   ]
  },
  {
   "cell_type": "code",
   "execution_count": 9,
   "id": "fc54a2b5",
   "metadata": {},
   "outputs": [],
   "source": [
    "#replacing the $ in the price feature and keeping the numerical value as float and maintiang the consistency in the feature\n",
    "y['price'] = y['price'].str.replace(',','').str.replace('$','').astype('float')\n",
    "\n",
    "#replacing the % in the host_response_rate feature and keeping the string value as float\n",
    "df_new['host_response_rate'] = df_new['host_response_rate'].str.replace('%','').astype('float')\n",
    "\n"
   ]
  },
  {
   "cell_type": "code",
   "execution_count": 10,
   "id": "cbb50715",
   "metadata": {},
   "outputs": [],
   "source": [
    "#df_new['bathrooms'].unique()"
   ]
  },
  {
   "cell_type": "code",
   "execution_count": 11,
   "id": "5a82062e",
   "metadata": {},
   "outputs": [],
   "source": [
    "#host_is_superhost is string is converted to boolean values of TRUE and FALSE\n",
    "df_new['host_is_superhost'] = df_new['host_is_superhost'].map({'t':1 , 'f': 0})\n",
    "\n",
    "\n",
    "#Converting the 3 values in a symmetric format\n",
    "df_new['bathrooms'] = df_new['bathrooms'].str.replace('Shared half-bath', '0.5 shared')\n",
    "df_new['bathrooms'] = df_new['bathrooms'].str.replace('Private half-bath', '0.5 private')\n",
    "df_new['bathrooms'] = df_new['bathrooms'].str.replace('Half-bath', '0.5 bath')\n",
    "\n",
    "#Symmetrically arranging the bathrooms feature\n",
    "df_new['bathrooms_shared'] = df_new['bathrooms'].str.contains('shared')\n",
    "df_new['bathrooms_private'] = df_new['bathrooms'].str.contains('private')\n",
    "\n",
    "#converting the values into float\n",
    "df_new['bathrooms'] = df_new['bathrooms'].str.split(' ').str[0].astype(float)\n",
    "\n"
   ]
  },
  {
   "cell_type": "markdown",
   "id": "773f1bb1",
   "metadata": {},
   "source": [
    "**Task 2, Question 2** Create at least 4 new features from existing features which contain multiple items of information, e.g. creating `email`,  `phone`, `work_email`, etc. from feature `host_verifications`.  \n",
    "(2 marks)"
   ]
  },
  {
   "cell_type": "code",
   "execution_count": 12,
   "id": "c0d210de",
   "metadata": {},
   "outputs": [],
   "source": [
    "#last review is originally in string, which is being converted to date time type\n",
    "df_new.last_review = pd.to_datetime(df_new['last_review'])\n",
    "df_new['last_review_year'] = df_new['last_review'].dt.year\n",
    "df_new['last_review_month'] = df_new['last_review'].dt.month\n",
    "df_new['last_review_day'] = df_new['last_review'].dt.day\n",
    "df_new.drop('last_review', axis=1, inplace=True)\n",
    "\n",
    "\n"
   ]
  },
  {
   "cell_type": "code",
   "execution_count": 13,
   "id": "e9ae0534",
   "metadata": {},
   "outputs": [],
   "source": [
    "#df_new.head()"
   ]
  },
  {
   "cell_type": "markdown",
   "id": "b0d01c4d-1412-4e51-8f80-7040f536b1c7",
   "metadata": {},
   "source": [
    "**Task 2, Question 3**: Impute missing values for all features in both training and test datasets.   \n",
    "(3 marks)"
   ]
  },
  {
   "cell_type": "code",
   "execution_count": 14,
   "id": "36412d68-f68f-4764-aa6f-88ba33116ef3",
   "metadata": {},
   "outputs": [
    {
     "data": {
      "text/plain": [
       "accommodates                        0\n",
       "availability_30                     0\n",
       "bathrooms                           0\n",
       "beds                                0\n",
       "calculated_host_listings_count      0\n",
       "host_is_superhost                   0\n",
       "host_response_time                  0\n",
       "host_response_rate                388\n",
       "minimum_nights                      0\n",
       "maximum_nights                      0\n",
       "reviews_per_month                   0\n",
       "review_scores_cleanliness           0\n",
       "review_scores_location              0\n",
       "room_type                           0\n",
       "bathrooms_shared                   10\n",
       "bathrooms_private                  10\n",
       "last_review_year                  123\n",
       "last_review_month                 123\n",
       "last_review_day                   123\n",
       "dtype: int64"
      ]
     },
     "execution_count": 14,
     "metadata": {},
     "output_type": "execute_result"
    }
   ],
   "source": [
    "#imputing the values with the means and medians for the numerical features\n",
    "df_impute = df_new.copy()\n",
    "df_impute['beds'] = df_impute.beds.fillna(value = np.nanmedian(df_impute.beds))\n",
    "df_impute['review_scores_location'] = df_impute.review_scores_location.fillna(df_impute.review_scores_location.mean())\n",
    "df_impute['review_scores_cleanliness'] = df_impute.review_scores_cleanliness.fillna(df_impute.review_scores_cleanliness.mean())\n",
    "df_impute['reviews_per_month'] = df_impute.reviews_per_month.fillna( df_impute.reviews_per_month.mean())\n",
    "#df_impute.head()\n",
    "\n",
    "\n",
    "pd.value_counts(df_new['bathrooms'])\n",
    "df_impute['bathrooms'] = df_impute['bathrooms'].fillna(1.0)\n",
    "\n",
    "pd.value_counts(df_new['room_type'])\n",
    "df_impute['room_type'] = df_impute.room_type.fillna('Entire home/apt')\n",
    "\n",
    "#highest occuring value in the dataset for both room_type and host_response_time\n",
    "pd.value_counts(df_new['host_response_time'])\n",
    "\n",
    "# Using mode to replace missing values\n",
    "df_impute['host_response_time'] = df_impute.host_response_time.fillna('within an hour')\n",
    "\n",
    "\n",
    "df_impute.isnull().sum()"
   ]
  },
  {
   "cell_type": "markdown",
   "id": "03c14ab6-aff9-4fcd-ab7b-34f0b77f8caa",
   "metadata": {},
   "source": [
    "**Task 2, Question 4**: Encode all categorical variables appropriately as discussed in class. \n",
    "\n",
    "\n",
    "Where a categorical feature contains more than 5 unique values, map the features into 5 most frequent values + 'other' and then encode appropriately. For instance, you could group then map `property_type` into 5 basic types + 'other': [entire rental unit, private room, entire room, entire towehouse, shared room, other] and then encode.  \n",
    "(2 marks)"
   ]
  },
  {
   "cell_type": "code",
   "execution_count": 15,
   "id": "f91f4448-8574-4397-a636-d83bbde885e2",
   "metadata": {},
   "outputs": [
    {
     "data": {
      "text/plain": [
       "(6991, 19)"
      ]
     },
     "execution_count": 15,
     "metadata": {},
     "output_type": "execute_result"
    }
   ],
   "source": [
    "#re-splitting the training and testing dataset into the original format \n",
    "eda_df = df_impute.iloc[:7000,:].copy()\n",
    "eda_df.dropna(inplace = True)\n",
    "eda_df.shape"
   ]
  },
  {
   "cell_type": "code",
   "execution_count": 16,
   "id": "f41b3f7e",
   "metadata": {},
   "outputs": [
    {
     "data": {
      "text/html": [
       "<div>\n",
       "<style scoped>\n",
       "    .dataframe tbody tr th:only-of-type {\n",
       "        vertical-align: middle;\n",
       "    }\n",
       "\n",
       "    .dataframe tbody tr th {\n",
       "        vertical-align: top;\n",
       "    }\n",
       "\n",
       "    .dataframe thead th {\n",
       "        text-align: right;\n",
       "    }\n",
       "</style>\n",
       "<table border=\"1\" class=\"dataframe\">\n",
       "  <thead>\n",
       "    <tr style=\"text-align: right;\">\n",
       "      <th></th>\n",
       "      <th>accommodates</th>\n",
       "      <th>availability_30</th>\n",
       "      <th>bathrooms</th>\n",
       "      <th>beds</th>\n",
       "      <th>calculated_host_listings_count</th>\n",
       "      <th>host_is_superhost</th>\n",
       "      <th>host_response_rate</th>\n",
       "      <th>minimum_nights</th>\n",
       "      <th>maximum_nights</th>\n",
       "      <th>reviews_per_month</th>\n",
       "      <th>...</th>\n",
       "      <th>last_review_month</th>\n",
       "      <th>last_review_day</th>\n",
       "      <th>host_response_time_a few days or more</th>\n",
       "      <th>host_response_time_within a day</th>\n",
       "      <th>host_response_time_within a few hours</th>\n",
       "      <th>host_response_time_within an hour</th>\n",
       "      <th>room_type_Entire home/apt</th>\n",
       "      <th>room_type_Hotel room</th>\n",
       "      <th>room_type_Private room</th>\n",
       "      <th>room_type_Shared room</th>\n",
       "    </tr>\n",
       "  </thead>\n",
       "  <tbody>\n",
       "    <tr>\n",
       "      <th>0</th>\n",
       "      <td>2</td>\n",
       "      <td>27</td>\n",
       "      <td>1.0</td>\n",
       "      <td>1.0</td>\n",
       "      <td>2</td>\n",
       "      <td>0</td>\n",
       "      <td>100.0</td>\n",
       "      <td>2</td>\n",
       "      <td>180</td>\n",
       "      <td>0.15</td>\n",
       "      <td>...</td>\n",
       "      <td>3.0</td>\n",
       "      <td>9.0</td>\n",
       "      <td>0</td>\n",
       "      <td>0</td>\n",
       "      <td>1</td>\n",
       "      <td>0</td>\n",
       "      <td>1</td>\n",
       "      <td>0</td>\n",
       "      <td>0</td>\n",
       "      <td>0</td>\n",
       "    </tr>\n",
       "    <tr>\n",
       "      <th>1</th>\n",
       "      <td>2</td>\n",
       "      <td>30</td>\n",
       "      <td>1.0</td>\n",
       "      <td>2.0</td>\n",
       "      <td>1</td>\n",
       "      <td>0</td>\n",
       "      <td>0.0</td>\n",
       "      <td>1</td>\n",
       "      <td>365</td>\n",
       "      <td>0.03</td>\n",
       "      <td>...</td>\n",
       "      <td>12.0</td>\n",
       "      <td>9.0</td>\n",
       "      <td>1</td>\n",
       "      <td>0</td>\n",
       "      <td>0</td>\n",
       "      <td>0</td>\n",
       "      <td>0</td>\n",
       "      <td>0</td>\n",
       "      <td>1</td>\n",
       "      <td>0</td>\n",
       "    </tr>\n",
       "  </tbody>\n",
       "</table>\n",
       "<p>2 rows × 25 columns</p>\n",
       "</div>"
      ],
      "text/plain": [
       "   accommodates  availability_30  bathrooms  beds  \\\n",
       "0             2               27        1.0   1.0   \n",
       "1             2               30        1.0   2.0   \n",
       "\n",
       "   calculated_host_listings_count  host_is_superhost  host_response_rate  \\\n",
       "0                               2                  0               100.0   \n",
       "1                               1                  0                 0.0   \n",
       "\n",
       "   minimum_nights  maximum_nights  reviews_per_month  ...  last_review_month  \\\n",
       "0               2             180               0.15  ...                3.0   \n",
       "1               1             365               0.03  ...               12.0   \n",
       "\n",
       "   last_review_day host_response_time_a few days or more  \\\n",
       "0              9.0                                     0   \n",
       "1              9.0                                     1   \n",
       "\n",
       "  host_response_time_within a day  host_response_time_within a few hours  \\\n",
       "0                               0                                      1   \n",
       "1                               0                                      0   \n",
       "\n",
       "   host_response_time_within an hour  room_type_Entire home/apt  \\\n",
       "0                                  0                          1   \n",
       "1                                  0                          0   \n",
       "\n",
       "   room_type_Hotel room  room_type_Private room  room_type_Shared room  \n",
       "0                     0                       0                      0  \n",
       "1                     0                       1                      0  \n",
       "\n",
       "[2 rows x 25 columns]"
      ]
     },
     "execution_count": 16,
     "metadata": {},
     "output_type": "execute_result"
    }
   ],
   "source": [
    "#performing get_dummies on 'host_response_time' and 'room_type' columns as taught in class\n",
    "host_response_time_dummy = pd.get_dummies(df_impute['host_response_time'], prefix=\"host_response_time\", prefix_sep=\"_\" )\n",
    "\n",
    "df_impute = pd.concat([df_impute,host_response_time_dummy], axis = 1)\n",
    "df_impute = df_impute.drop('host_response_time', axis=1)\n",
    "\n",
    "room_type_dummy = pd.get_dummies(df_impute['room_type'], prefix=\"room_type\", prefix_sep=\"_\" )\n",
    "df_impute = pd.concat([df_impute,room_type_dummy], axis = 1)\n",
    "df_impute = df_impute.drop('room_type', axis=1)\n",
    "\n",
    "df_impute.head(2)"
   ]
  },
  {
   "cell_type": "code",
   "execution_count": 17,
   "id": "449176f9",
   "metadata": {},
   "outputs": [],
   "source": [
    "X = df_impute.iloc[:7000,:].copy()\n",
    "test_X = df_impute.iloc[7000:,:].copy()"
   ]
  },
  {
   "cell_type": "markdown",
   "id": "2d695347",
   "metadata": {},
   "source": [
    "**Task 2, Question 5**: Perform any other actions you think need to be done on the data before constructing predictive models, and clearly explain what you have done.   \n",
    "(1 marks)"
   ]
  },
  {
   "cell_type": "code",
   "execution_count": 35,
   "id": "21a238a3-5432-4058-8b6e-1172c4e396ad",
   "metadata": {},
   "outputs": [
    {
     "data": {
      "text/plain": [
       "(6991, 28)"
      ]
     },
     "execution_count": 35,
     "metadata": {},
     "output_type": "execute_result"
    }
   ],
   "source": [
    "#dropping the null values \n",
    "X = pd.concat([X,y], axis=1)\n",
    "X.dropna(inplace=True)\n",
    "X.shape\n",
    "#X.head()\n",
    "\n"
   ]
  },
  {
   "cell_type": "code",
   "execution_count": 19,
   "id": "99b495fd",
   "metadata": {
    "scrolled": true
   },
   "outputs": [
    {
     "data": {
      "text/plain": [
       "<AxesSubplot:xlabel='price'>"
      ]
     },
     "execution_count": 19,
     "metadata": {},
     "output_type": "execute_result"
    },
    {
     "data": {
      "image/png": "[encoded data removed]",
      "text/plain": [
       "<Figure size 432x288 with 1 Axes>"
      ]
     },
     "metadata": {
      "needs_background": "light"
     },
     "output_type": "display_data"
    }
   ],
   "source": [
    "#plotting the boxplot of price feature to detect outliers\n",
    "sns.boxplot(X.price[X.price<450])\n"
   ]
  },
  {
   "cell_type": "code",
   "execution_count": 20,
   "id": "005ee2e5",
   "metadata": {},
   "outputs": [],
   "source": [
    "#As we observe, the outliers start from approximately after 390 but the cluster of points are breaking after 410. So we clip at 420\n",
    "X_outlier_removed = X[X.price < 420]\n",
    "y_outlier_removed = X_outlier_removed.iloc[:,-1].copy()\n",
    "X_outlier_removed = X_outlier_removed.iloc[:,:-1].copy()"
   ]
  },
  {
   "cell_type": "code",
   "execution_count": 21,
   "id": "68a11ccb",
   "metadata": {},
   "outputs": [],
   "source": [
    "#scalling the data where the outliers are removed\n",
    "scaler = MinMaxScaler()\n",
    "X_scaled_outliers_rm = pd.DataFrame(scaler.fit_transform(X_outlier_removed))"
   ]
  },
  {
   "cell_type": "code",
   "execution_count": 22,
   "id": "30f817ea",
   "metadata": {},
   "outputs": [],
   "source": [
    "y = X.iloc[:,-1].copy()\n",
    "X = X.iloc[:,:-1].copy()\n",
    "\n",
    "X_scaled = pd.DataFrame(scaler.fit_transform(X))"
   ]
  },
  {
   "cell_type": "markdown",
   "id": "fa16475c",
   "metadata": {},
   "source": [
    "**Task 2, Question 6**: Perform exploratory data analysis to measure the relationship between the features and the target and write up your findings. \n",
    "(2 marks)"
   ]
  },
  {
   "cell_type": "code",
   "execution_count": 23,
   "id": "1509b479",
   "metadata": {
    "scrolled": false
   },
   "outputs": [
    {
     "data": {
      "text/plain": [
       "<AxesSubplot:xlabel='price', ylabel='room_type'>"
      ]
     },
     "execution_count": 23,
     "metadata": {},
     "output_type": "execute_result"
    },
    {
     "data": {
      "image/png": "[encoded data removed]",
      "text/plain": [
       "<Figure size 504x216 with 1 Axes>"
      ]
     },
     "metadata": {},
     "output_type": "display_data"
    }
   ],
   "source": [
    "#detecting the outliers of the price of the different values of the 'room_type' column using boxplot\n",
    "sns.set(rc={'figure.figsize' : (7,3)}, style = \"whitegrid\")\n",
    "feature_set = pd.concat([eda_df,y], axis=1)\n",
    "sns.boxplot(data = feature_set[feature_set.price < 420] , y = 'room_type', x = 'price' )"
   ]
  },
  {
   "cell_type": "markdown",
   "id": "a4daea9a",
   "metadata": {},
   "source": [
    "The above boxplot shows the relation between the price with respect to different room types. As observed, the prices of the 'Entire home/apt' and 'Hotel room' is higher than the 'Private room' and 'Shared room'. However, the range of outliers for the 'Private room' and 'Shared room' is much higher than that of 'Entire home/apt'. There are no ouliers observed in the 'Hotel room' room type."
   ]
  },
  {
   "cell_type": "code",
   "execution_count": 24,
   "id": "ed90568c",
   "metadata": {},
   "outputs": [
    {
     "name": "stdout",
     "output_type": "stream",
     "text": [
      "accommodates                     -0.003790\n",
      "availability_30                   0.002357\n",
      "bathrooms                        -0.015775\n",
      "beds                             -0.005343\n",
      "calculated_host_listings_count    0.019469\n",
      "host_is_superhost                -0.002749\n",
      "host_response_rate                0.014344\n",
      "minimum_nights                    0.024680\n",
      "maximum_nights                   -0.004438\n",
      "reviews_per_month                -0.032257\n",
      "review_scores_cleanliness        -0.005446\n",
      "review_scores_location           -0.008939\n",
      "last_review_year                 -0.021761\n",
      "last_review_month                 0.062701\n",
      "last_review_day                   1.000000\n",
      "Name: last_review_day, dtype: float64\n"
     ]
    },
    {
     "data": {
      "image/png": "[encoded data removed]",
      "text/plain": [
       "<Figure size 864x864 with 2 Axes>"
      ]
     },
     "metadata": {},
     "output_type": "display_data"
    }
   ],
   "source": [
    "#Exploring the correlation of the features though correlation heatmap\n",
    "sns.set(rc={'figure.figsize' : (12,12)}, style = \"whitegrid\")\n",
    "print(df_new.corr().iloc[:,-1]) # Correlation with price\n",
    "sns.heatmap(df_new.corr(), annot=True);"
   ]
  },
  {
   "cell_type": "markdown",
   "id": "3c9f6968-d9c2-422f-9935-eba856b3c028",
   "metadata": {},
   "source": [
    "--- \n",
    "## Task 3: Fit and tune a forecasting model/Submit predictions/Report score and ranking {-}\n",
    "\n",
    "Make sure you **clearly explain each step** you do, both in text and on the recoded video.\n",
    "\n",
    "1. Build a machine learning (ML) regression model taking into account the outcomes of Tasks 1 & 2 (Explain carefully)\n",
    "2. Fit the model and tune hyperparameters via cross-validation: make sure you comment and explain each step clearly\n",
    "3. Create predictions using the test dataset and submit your predictions on Kaggle's competition page\n",
    "4. Provide Kaggle ranking and **score** (screenshot your best submission) and Comment\n",
    "5. Make sure your Python code works, so that a marker that can replicate your all of your results and obtain the same RMSE from Kaggle\n",
    "\n",
    "- Hint: to perform well you will need to iterate Task 3, building and tuning various models in order to find the best one.\n",
    "\n",
    "Total Marks: 12"
   ]
  },
  {
   "cell_type": "code",
   "execution_count": 25,
   "id": "bb53af94-d769-4a1d-a4a1-433f3dc7b46d",
   "metadata": {},
   "outputs": [],
   "source": [
    "#performing the cross-validation to achieve the best hyper-parameter based on the three models below\n",
    "cv = RepeatedKFold(n_splits=5, n_repeats=3, random_state=142)"
   ]
  },
  {
   "cell_type": "code",
   "execution_count": 26,
   "id": "571ecfe8",
   "metadata": {},
   "outputs": [
    {
     "name": "stdout",
     "output_type": "stream",
     "text": [
      "Best Score: -4677.16812668025\n",
      "Best Hyperparameters: {'min_samples_split': 10, 'min_samples_leaf': 4, 'max_features': 'sqrt', 'max_depth': 100}\n"
     ]
    }
   ],
   "source": [
    "#performing decision tree regressor model\n",
    "model = DecisionTreeRegressor()\n",
    "\n",
    "\n",
    "space = {\n",
    "    'max_depth': [50, 60, 80, 90, 100, None],\n",
    " 'max_features': ['auto', 'sqrt'],\n",
    " 'min_samples_leaf': [1, 2, 4],\n",
    " 'min_samples_split': [ 5, 10]}\n",
    "\n",
    "#retrieving the accuracy of the model with the help of negative mean squared error method\n",
    "search_dt = RandomizedSearchCV(model, space, n_iter=100, scoring='neg_mean_squared_error', n_jobs=-1, cv=cv, random_state=142)\n",
    "\n",
    "#fitting the model with the outliers removed\n",
    "result = search_dt.fit(X_outlier_removed, y_outlier_removed);\n",
    "\n",
    "\n",
    "print('Best Score: %s' % result.best_score_)\n",
    "print('Best Hyperparameters: %s' % result.best_params_)"
   ]
  },
  {
   "cell_type": "code",
   "execution_count": 27,
   "id": "a57556da",
   "metadata": {},
   "outputs": [
    {
     "name": "stdout",
     "output_type": "stream",
     "text": [
      "Best Score: -4047.1713387747964\n",
      "Best Hyperparameters: {'fit_intercept': False}\n"
     ]
    }
   ],
   "source": [
    "#performing the linear regression model \n",
    "model = LinearRegression()\n",
    "\n",
    "space = dict()\n",
    "space['fit_intercept'] = [True, False]\n",
    "\n",
    "#the model will iterate 500 times with random state 142\n",
    "search_lr = RandomizedSearchCV(model, space, n_iter=500, scoring='neg_mean_squared_error', n_jobs=-1, cv=cv, random_state=142);\n",
    "\n",
    "result = search_lr.fit(X_scaled_outliers_rm, y_outlier_removed);\n",
    "\n",
    "print('Best Score: %s' % result.best_score_)\n",
    "print('Best Hyperparameters: %s' % result.best_params_)"
   ]
  },
  {
   "cell_type": "code",
   "execution_count": 29,
   "id": "792bd451",
   "metadata": {},
   "outputs": [
    {
     "name": "stdout",
     "output_type": "stream",
     "text": [
      "Best Score: -3092.5141521757314\n",
      "Best Hyperparameters: {'n_estimators': 1000, 'max_features': 'sqrt', 'max_depth': 20}\n"
     ]
    }
   ],
   "source": [
    "model = RandomForestRegressor()\n",
    "\n",
    "\n",
    "space = {\n",
    "    'max_depth': [1,20,50,100],\n",
    "    'max_features': ['auto', 'sqrt'],\n",
    "    'n_estimators': [200, 400, 600, 800, 1000]}\n",
    "\n",
    "\n",
    "search_rf = RandomizedSearchCV(model, space, n_iter=100, scoring='neg_mean_squared_error', n_jobs=-1, cv=cv, random_state=142);\n",
    "\n",
    "result = search_rf.fit(X_outlier_removed, y_outlier_removed);\n",
    "\n",
    "print('Best Score: %s' % result.best_score_)\n",
    "print('Best Hyperparameters: %s' % result.best_params_)"
   ]
  },
  {
   "cell_type": "code",
   "execution_count": 30,
   "id": "793a46e8",
   "metadata": {},
   "outputs": [],
   "source": [
    "# Removing NULL or missing values from test data\n",
    "\n",
    "test_X.fillna(0, inplace = True)\n"
   ]
  },
  {
   "cell_type": "code",
   "execution_count": 31,
   "id": "89f563c5",
   "metadata": {},
   "outputs": [
    {
     "name": "stdout",
     "output_type": "stream",
     "text": [
      "(3000, 1)\n"
     ]
    },
    {
     "data": {
      "text/html": [
       "<div>\n",
       "<style scoped>\n",
       "    .dataframe tbody tr th:only-of-type {\n",
       "        vertical-align: middle;\n",
       "    }\n",
       "\n",
       "    .dataframe tbody tr th {\n",
       "        vertical-align: top;\n",
       "    }\n",
       "\n",
       "    .dataframe thead th {\n",
       "        text-align: right;\n",
       "    }\n",
       "</style>\n",
       "<table border=\"1\" class=\"dataframe\">\n",
       "  <thead>\n",
       "    <tr style=\"text-align: right;\">\n",
       "      <th></th>\n",
       "      <th>price</th>\n",
       "    </tr>\n",
       "  </thead>\n",
       "  <tbody>\n",
       "    <tr>\n",
       "      <th>0</th>\n",
       "      <td>69.073880</td>\n",
       "    </tr>\n",
       "    <tr>\n",
       "      <th>1</th>\n",
       "      <td>173.869119</td>\n",
       "    </tr>\n",
       "    <tr>\n",
       "      <th>2</th>\n",
       "      <td>170.351321</td>\n",
       "    </tr>\n",
       "    <tr>\n",
       "      <th>3</th>\n",
       "      <td>80.851337</td>\n",
       "    </tr>\n",
       "    <tr>\n",
       "      <th>4</th>\n",
       "      <td>121.603331</td>\n",
       "    </tr>\n",
       "  </tbody>\n",
       "</table>\n",
       "</div>"
      ],
      "text/plain": [
       "        price\n",
       "0   69.073880\n",
       "1  173.869119\n",
       "2  170.351321\n",
       "3   80.851337\n",
       "4  121.603331"
      ]
     },
     "execution_count": 31,
     "metadata": {},
     "output_type": "execute_result"
    }
   ],
   "source": [
    "#Choosing the model with the best score which is the random forest regressor\n",
    "model = RandomForestRegressor()\n",
    "model.set_params(**result.best_params_)\n",
    "\n",
    "#predicting the price value with respect to random forest regressor\n",
    "prediction = search_rf.predict(test_X)\n",
    "prediction = pd.DataFrame(prediction, columns=[\"price\"])\n",
    "\n",
    "#print(prediction.shape)\n",
    "prediction.head()"
   ]
  },
  {
   "cell_type": "code",
   "execution_count": 32,
   "id": "7c1f9efc",
   "metadata": {},
   "outputs": [],
   "source": [
    "#copying the prediction result of the price in the sample_submission.csv file\n",
    "submission = pd.read_csv('sample_submission.csv')\n",
    "\n",
    "submission['price'] = prediction\n",
    "submission.to_csv('submission', index= False)"
   ]
  },
  {
   "cell_type": "code",
   "execution_count": null,
   "id": "f31406e3",
   "metadata": {},
   "outputs": [],
   "source": []
  }
 ],
 "metadata": {
  "kernelspec": {
   "display_name": "Python 3 (ipykernel)",
   "language": "python",
   "name": "python3"
  },
  "language_info": {
   "codemirror_mode": {
    "name": "ipython",
    "version": 3
   },
   "file_extension": ".py",
   "mimetype": "text/x-python",
   "name": "python",
   "nbconvert_exporter": "python",
   "pygments_lexer": "ipython3",
   "version": "3.9.12"
  }
 },
 "nbformat": 4,
 "nbformat_minor": 5
}
